{
 "cells": [
  {
   "cell_type": "markdown",
   "id": "0a269f21",
   "metadata": {},
   "source": [
    "# IT001 — PCA"
   ]
  },
  {
   "cell_type": "markdown",
   "id": "2750bea8",
   "metadata": {},
   "source": [
    "Run this notebook to perform your assigned preprocessing step. Visuals are shown and outputs saved under `results/outputs/`."
   ]
  },
  {
   "cell_type": "code",
   "execution_count": null,
   "id": "3bc0c484",
   "metadata": {},
   "outputs": [],
   "source": [
    "import pandas as pd, numpy as np, matplotlib.pyplot as plt\n",
    "from scipy import sparse\n",
    "from sklearn.base import BaseEstimator, TransformerMixin\n",
    "from sklearn.preprocessing import PowerTransformer, StandardScaler, OneHotEncoder\n",
    "from sklearn.decomposition import PCA\n",
    "from sklearn.model_selection import train_test_split\n",
    "from sklearn.linear_model import LogisticRegression\n",
    "from sklearn.metrics import (roc_auc_score, confusion_matrix, classification_report,\n",
    "                             RocCurveDisplay, PrecisionRecallDisplay)\n",
    "\n",
    "DATA_PATH = \"/content/Group_07/data/raw/Lung Cancer.csv\"\n",
    "df = pd.read_csv(DATA_PATH).drop(columns=[\"id\"], errors=\"ignore\")\n",
    "print(\"Loaded:\", df.shape)"
   ]
  },
  {
   "cell_type": "code",
   "execution_count": null,
   "id": "04d4369e",
   "metadata": {},
   "outputs": [],
   "source": [
    "import matplotlib.pyplot as plt\n",
    "def safe_hist(series, title, bins=30):\n",
    "    plt.figure(); s = pd.to_numeric(series, errors=\"coerce\").dropna()\n",
    "    if len(s)==0: plt.title(f\"{title} (no numeric)\"); plt.show(); return\n",
    "    plt.hist(s, bins=bins); plt.title(title); plt.xlabel(series.name); plt.ylabel(\"Count\"); plt.show()\n",
    "\n",
    "def bar_top_counts(series, title, topn=10, rotate=45):\n",
    "    plt.figure(); vc = series.astype(str).value_counts().head(topn)\n",
    "    plt.bar(vc.index, vc.values); plt.title(title); plt.xticks(rotation=rotate, ha=\"right\"); plt.tight_layout(); plt.show()\n",
    "\n",
    "def boxplot_two(before, after, title_before, title_after):\n",
    "    plt.figure()\n",
    "    data = [pd.to_numeric(before, errors=\"coerce\").dropna(),\n",
    "            pd.to_numeric(after,  errors=\"coerce\").dropna()]\n",
    "    plt.boxplot(data, labels=[title_before, title_after], showfliers=False)\n",
    "    plt.title(\"Before vs After\"); plt.show()"
   ]
  },
  {
   "cell_type": "code",
   "execution_count": null,
   "id": "f61f579b",
   "metadata": {},
   "outputs": [],
   "source": [
    "num_all = [c for c in [\"age\",\"bmi\",\"cholesterol_level\",\"diagnosis_year\",\"diagnosis_month\",\n",
    "                       \"treatment_length_days\",\"comorbidity_count\",\"ever_smoked\",\"passive_exposure\"] if c in df.columns]\n",
    "k = min(5, len(num_all)) if len(num_all) else 0\n",
    "if k==0:\n",
    "    print(\"No numeric columns for PCA.\"); X_pca = pd.DataFrame(index=df.index)\n",
    "else:\n",
    "    pca = PCA(n_components=k).fit(df[num_all])\n",
    "    X_pca = pd.DataFrame(pca.transform(df[num_all]), columns=[f\"pca_{i+1}\" for i in range(k)], index=df.index)\n",
    "    cum = (pca.explained_variance_ratio_).cumsum()\n",
    "    plt.figure(); plt.plot(range(1,len(cum)+1), cum, marker=\"o\"); plt.grid(); plt.title(\"PCA variance\"); plt.xlabel(\"k\"); plt.ylabel(\"cum var\"); plt.show()\n",
    "X_pca.to_csv(\"/content/Group_07/results/outputs/pca_features.csv\", index=False)\n",
    "print(\"Saved -> results/outputs/pca_features.csv\")"
   ]
  }
 ],
 "metadata": {},
 "nbformat": 4,
 "nbformat_minor": 5
}
